{
 "cells": [
  {
   "cell_type": "code",
   "execution_count": 1,
   "metadata": {},
   "outputs": [],
   "source": [
    "# download dataset only neeeded for the first time\n",
    "# ! chmod +x download.sh\n",
    "# ! ./download.sh"
   ]
  },
  {
   "cell_type": "code",
   "execution_count": 1,
   "metadata": {},
   "outputs": [],
   "source": [
    "import os\n",
    "from pathlib import Path\n",
    "import shutil\n",
    "from torchvision import models, datasets, transforms\n",
    "from torch.utils.data import DataLoader, Dataset, random_split\n",
    "import torch.nn as nn\n",
    "from collections import defaultdict\n",
    "from PIL import Image\n",
    "import numpy as np\n",
    "import torch\n",
    "import torch.nn.functional as F\n",
    "import matplotlib.pyplot as plt\n",
    "import torch\n",
    "from torch.utils.data import DataLoader\n",
    "from torch.optim import Adam\n",
    "from torch.optim.lr_scheduler import ReduceLROnPlateau\n",
    "import numpy as np\n",
    "from tqdm import tqdm\n",
    "import os\n",
    "from plant_dataset import PlantDataset\n",
    "import matplotlib.pyplot as plt\n",
    "from sklearn.metrics import confusion_matrix, classification_report\n",
    "import seaborn as sns\n",
    "import pandas as pd"
   ]
  },
  {
   "cell_type": "code",
   "execution_count": 2,
   "metadata": {},
   "outputs": [],
   "source": [
    "dataset_path = Path(\"dataset\")\n",
    "\n",
    "device = torch.device(\"cuda\" if torch.cuda.is_available() else \"cpu\")\n",
    "device = torch.device(\"mps\" if torch.backends.mps.is_available() else device)\n",
    "\n",
    "batch_size = 32\n",
    "num_epochs = 25\n",
    "learning_rate = 0.001\n",
    "early_stopping_patience = 3"
   ]
  },
  {
   "cell_type": "code",
   "execution_count": 3,
   "metadata": {},
   "outputs": [],
   "source": [
    "def fix_folder_name(path):\n",
    "    for folder in os.listdir(path):\n",
    "        folder_path = os.path.join(path, folder)\n",
    "        if os.path.isdir(folder_path):\n",
    "            if \",_\" in folder:\n",
    "                new_folder_name = folder.replace(\",\", \"_\")\n",
    "                new_folder_path = os.path.join(path, new_folder_name)\n",
    "                os.rename(folder_path, new_folder_path)\n",
    "                folder_path = new_folder_path\n",
    "\n",
    "            if folder[0] == \"_\":\n",
    "                new_folder_name = folder[1:]\n",
    "                new_folder_path = os.path.join(path, new_folder_name)\n",
    "                os.rename(folder_path, new_folder_path)\n",
    "                folder_path = new_folder_path\n",
    "\n",
    "            fix_folder_name(folder_path)\n",
    "\n",
    "def optimize_folder_structure(path):\n",
    "    for folder in os.listdir(path):\n",
    "        folder_path = os.path.join(path, folder)\n",
    "\n",
    "        if os.path.isdir(folder_path) and \"___\" in folder:\n",
    "            plant, status = folder.split(\"___\", 1)\n",
    "            plant_folder = os.path.join(path, plant)\n",
    "            os.makedirs(plant_folder, exist_ok=True)\n",
    "\n",
    "            status_folder = os.path.join(plant_folder, folder)\n",
    "\n",
    "            if os.path.exists(status_folder):\n",
    "                for item in os.listdir(folder_path):\n",
    "                    src = os.path.join(folder_path, item)\n",
    "                    dst = os.path.join(status_folder, item)\n",
    "                    if not os.path.exists(dst):\n",
    "                        shutil.move(src, dst)\n",
    "                os.rmdir(folder_path)\n",
    "            else:\n",
    "                shutil.move(folder_path, status_folder)\n",
    "\n",
    "            print(f\"Reorganized: {folder} -> {plant}/{status_folder}\")\n",
    "\n",
    "\n",
    "# fix folder name\n",
    "fix_folder_name(dataset_path)\n",
    "\n",
    "# get plant classes\n",
    "train_path = os.path.join(dataset_path, \"train\")\n",
    "valid_path = os.path.join(dataset_path, \"valid\")\n",
    "\n",
    "optimize_folder_structure(train_path)\n",
    "optimize_folder_structure(valid_path)"
   ]
  },
  {
   "cell_type": "code",
   "execution_count": 4,
   "metadata": {},
   "outputs": [
    {
     "name": "stdout",
     "output_type": "stream",
     "text": [
      "植物种类: ['Apple', 'Blueberry', 'Cherry_(including_sour)', 'Corn_(maize)', 'Grape', 'Orange', 'Peach', 'Pepper__bell', 'Potato', 'Raspberry', 'Soybean', 'Squash', 'Strawberry', 'Tomato']\n",
      "状态类别: ['Apple___Apple_scab', 'Apple___Black_rot', 'Apple___Cedar_apple_rust', 'Apple___healthy', 'Blueberry___healthy', 'Cherry_(including_sour)___Powdery_mildew', 'Cherry_(including_sour)___healthy', 'Corn_(maize)___Cercospora_leaf_spot Gray_leaf_spot', 'Corn_(maize)___Common_rust_', 'Corn_(maize)___Northern_Leaf_Blight', 'Corn_(maize)___healthy', 'Grape___Black_rot', 'Grape___Esca_(Black_Measles)', 'Grape___Leaf_blight_(Isariopsis_Leaf_Spot)', 'Grape___healthy', 'Orange___Haunglongbing_(Citrus_greening)', 'Peach___Bacterial_spot', 'Peach___healthy', 'Pepper__bell___Bacterial_spot', 'Pepper__bell___healthy', 'Potato___Early_blight', 'Potato___Late_blight', 'Potato___healthy', 'Raspberry___healthy', 'Soybean___healthy', 'Squash___Powdery_mildew', 'Strawberry___Leaf_scorch', 'Strawberry___healthy', 'Tomato___Bacterial_spot', 'Tomato___Early_blight', 'Tomato___Late_blight', 'Tomato___Leaf_Mold', 'Tomato___Septoria_leaf_spot', 'Tomato___Spider_mites Two-spotted_spider_mite', 'Tomato___Target_Spot', 'Tomato___Tomato_Yellow_Leaf_Curl_Virus', 'Tomato___Tomato_mosaic_virus', 'Tomato___healthy']\n",
      "\n",
      "植物到状态的映射:\n",
      "Apple: ['Apple___Cedar_apple_rust', 'Apple___Apple_scab', 'Apple___Black_rot', 'Apple___healthy']\n",
      "Blueberry: ['Blueberry___healthy']\n",
      "Strawberry: ['Strawberry___healthy', 'Strawberry___Leaf_scorch']\n",
      "Soybean: ['Soybean___healthy']\n",
      "Pepper__bell: ['Pepper__bell___Bacterial_spot', 'Pepper__bell___healthy']\n",
      "Squash: ['Squash___Powdery_mildew']\n",
      "Potato: ['Potato___Early_blight', 'Potato___Late_blight', 'Potato___healthy']\n",
      "Raspberry: ['Raspberry___healthy']\n",
      "Cherry_(including_sour): ['Cherry_(including_sour)___Powdery_mildew', 'Cherry_(including_sour)___healthy']\n",
      "Corn_(maize): ['Corn_(maize)___healthy', 'Corn_(maize)___Common_rust_', 'Corn_(maize)___Northern_Leaf_Blight', 'Corn_(maize)___Cercospora_leaf_spot Gray_leaf_spot']\n",
      "Grape: ['Grape___Black_rot', 'Grape___Leaf_blight_(Isariopsis_Leaf_Spot)', 'Grape___healthy', 'Grape___Esca_(Black_Measles)']\n",
      "Tomato: ['Tomato___Target_Spot', 'Tomato___Late_blight', 'Tomato___Tomato_mosaic_virus', 'Tomato___Leaf_Mold', 'Tomato___Bacterial_spot', 'Tomato___Early_blight', 'Tomato___healthy', 'Tomato___Tomato_Yellow_Leaf_Curl_Virus', 'Tomato___Spider_mites Two-spotted_spider_mite', 'Tomato___Septoria_leaf_spot']\n",
      "Orange: ['Orange___Haunglongbing_(Citrus_greening)']\n",
      "Peach: ['Peach___healthy', 'Peach___Bacterial_spot']\n"
     ]
    }
   ],
   "source": [
    "# 数据转换定义\n",
    "data_transforms = {\n",
    "    'train': transforms.Compose([\n",
    "        transforms.Resize(256),\n",
    "        transforms.RandomResizedCrop(224),\n",
    "        transforms.ToTensor(),\n",
    "        transforms.Normalize([0.485, 0.456, 0.406], [0.229, 0.224, 0.225])\n",
    "    ]),\n",
    "    'val': transforms.Compose([\n",
    "        transforms.Resize(256),\n",
    "        transforms.CenterCrop(224),\n",
    "        transforms.ToTensor(),\n",
    "        transforms.Normalize([0.485, 0.456, 0.406], [0.229, 0.224, 0.225])\n",
    "    ]),\n",
    "}\n",
    "\n",
    "# 创建数据集\n",
    "train_dataset = PlantDataset(\n",
    "    root_dir='dataset', transform=data_transforms['train'], mode='train')\n",
    "val_dataset = PlantDataset(\n",
    "    root_dir='dataset', transform=data_transforms['val'], mode='valid')\n",
    "\n",
    "# 打印类别信息\n",
    "print(\"植物种类:\", train_dataset.plant_classes)\n",
    "print(\"状态类别:\", train_dataset.status_classes)\n",
    "print(\"\\n植物到状态的映射:\")\n",
    "for plant, statuses in train_dataset.plant_to_status.items():\n",
    "    print(f\"{plant}: {statuses}\")\n",
    "\n",
    "# 创建DataLoader\n",
    "train_loader = DataLoader(\n",
    "    train_dataset, batch_size=batch_size, shuffle=True, num_workers=4)\n",
    "val_loader = DataLoader(val_dataset, batch_size=batch_size,\n",
    "                        shuffle=False, num_workers=4)"
   ]
  },
  {
   "cell_type": "code",
   "execution_count": 9,
   "metadata": {},
   "outputs": [],
   "source": [
    "class CustomResNet50(nn.Module):\n",
    "    def __init__(self, num_plants, num_statuses):\n",
    "        super().__init__()\n",
    "        self.backbone = models.resnet50(\n",
    "            weights=models.ResNet50_Weights.DEFAULT)\n",
    "        num_ftrs = self.backbone.fc.in_features\n",
    "        # 修改最后一层\n",
    "        self.backbone.fc = nn.Identity()\n",
    "        self.dropout = nn.Dropout(p=0.5)\n",
    "        \n",
    "        # 双输出头\n",
    "        self.plant_head = nn.Linear(num_ftrs, num_plants)\n",
    "        self.status_head = nn.Linear(num_ftrs, num_statuses)\n",
    "\n",
    "    def forward(self, x):\n",
    "        features = self.backbone(x)\n",
    "        features = self.dropout(features)\n",
    "        plant_out = self.plant_head(features)\n",
    "        status_out = self.status_head(features)\n",
    "        return plant_out, status_out\n",
    "\n",
    "    def compute_loss(self, plant_scores, status_scores, plant_y, status_y):\n",
    "        # 计算植物分类的损失\n",
    "        plant_loss = F.cross_entropy(plant_scores, plant_y)\n",
    "\n",
    "        # 计算状态分类的损失\n",
    "        status_loss = F.cross_entropy(status_scores, status_y)\n",
    "\n",
    "        # 返回总损失\n",
    "        return plant_loss * 2 + status_loss\n",
    "\n",
    "\n",
    "class CustomDenseNet121(nn.Module):\n",
    "    def __init__(self, num_plants, num_statuses):\n",
    "        super().__init__()\n",
    "        self.backbone = models.densenet121(\n",
    "            weights=models.DenseNet121_Weights.DEFAULT)\n",
    "        num_ftrs = self.backbone.classifier.in_features\n",
    "\n",
    "        # 修改最后一层\n",
    "        self.backbone.classifier = nn.Identity()\n",
    "        self.dropout = nn.Dropout(p=0.5)\n",
    "\n",
    "        # 双输出头\n",
    "        self.plant_head = nn.Linear(num_ftrs, num_plants)\n",
    "        self.status_head = nn.Linear(num_ftrs, num_statuses)\n",
    "\n",
    "    def forward(self, x):\n",
    "        features = self.backbone(x)\n",
    "        features = self.dropout(features)\n",
    "        plant_out = self.plant_head(features)\n",
    "        status_out = self.status_head(features)\n",
    "        return plant_out, status_out\n",
    "\n",
    "    def compute_loss(self, plant_scores, status_scores, plant_y, status_y):\n",
    "        # 计算植物分类的损失\n",
    "        plant_loss = F.cross_entropy(plant_scores, plant_y)\n",
    "\n",
    "        # 计算状态分类的损失\n",
    "        status_loss = F.cross_entropy(status_scores, status_y)\n",
    "\n",
    "        # 返回总损失\n",
    "        return plant_loss * 2 + status_loss\n",
    "\n",
    "# 初始化模型\n",
    "resnet50_model = CustomResNet50(\n",
    "    num_plants=len(train_dataset.plant_classes),\n",
    "    num_statuses=len(train_dataset.status_classes)\n",
    ")\n",
    "denseNet121_model = CustomDenseNet121(\n",
    "    num_plants=len(train_dataset.plant_classes),\n",
    "    num_statuses=len(train_dataset.status_classes)\n",
    ")"
   ]
  },
  {
   "cell_type": "code",
   "execution_count": null,
   "metadata": {},
   "outputs": [],
   "source": [
    "class Trainer:\n",
    "    def __init__(self, model, train_loader, val_loader, device, config):\n",
    "        self.model = model.to(device)\n",
    "        self.train_loader = train_loader\n",
    "        self.val_loader = val_loader\n",
    "        self.device = device\n",
    "        self.config = config\n",
    "\n",
    "        # 初始化优化器和学习率调度器\n",
    "        self.optimizer = Adam(\n",
    "            model.parameters(),\n",
    "            lr=config['lr'],\n",
    "            weight_decay=config['weight_decay']\n",
    "        )\n",
    "        self.scheduler = ReduceLROnPlateau(\n",
    "            self.optimizer,\n",
    "            mode='max',    # 监控指标越大越好\n",
    "            patience=3,    # 3个epoch无改善则降低LR\n",
    "            factor=0.5     # LR衰减因子\n",
    "        )\n",
    "\n",
    "        # 记录训练历史\n",
    "        self.history = {\n",
    "            'train_loss': [],\n",
    "            'val_loss': [],\n",
    "            'plant_acc': [],\n",
    "            'status_acc': [],\n",
    "            'lr': []\n",
    "        }\n",
    "\n",
    "        # 创建保存目录\n",
    "        os.makedirs(config['save_dir'], exist_ok=True)\n",
    "\n",
    "    def train(self):\n",
    "        best_combined_acc = 0.0\n",
    "        self.model.train()\n",
    "        early_stopping_counter = 0\n",
    "\n",
    "        for epoch in range(self.config['epochs']):\n",
    "            print(f\"\\nEpoch {epoch+1}/{self.config['epochs']}\")\n",
    "\n",
    "            # 训练阶段\n",
    "            train_loss, train_plant_acc, train_status_acc = self.train_epoch()\n",
    "\n",
    "            # 验证阶段\n",
    "            val_loss, val_plant_acc, val_status_acc = self.validate()\n",
    "\n",
    "            # 记录当前学习率\n",
    "            current_lr = self.optimizer.param_groups[0]['lr']\n",
    "            self.history['lr'].append(current_lr)\n",
    "\n",
    "            # 打印训练信息\n",
    "            print(f\"Train Loss: {train_loss:.4f} | \"\n",
    "                  f\"Plant Acc: {train_plant_acc:.4f} | \"\n",
    "                  f\"Status Acc: {train_status_acc:.4f} | \"\n",
    "                  f\"LR: {current_lr:.2e}\")\n",
    "\n",
    "            print(f\"Val Loss: {val_loss:.4f} | \"\n",
    "                  f\"Plant Acc: {val_plant_acc:.4f} | \"\n",
    "                  f\"Status Acc: {val_status_acc:.4f}\")\n",
    "\n",
    "            # 学习率调度（基于植物和病害分类的平均准确率）\n",
    "            combined_acc = (val_plant_acc + val_status_acc) / 2\n",
    "            self.scheduler.step(combined_acc)\n",
    "\n",
    "            # 保存最佳模型\n",
    "            if combined_acc > best_combined_acc:\n",
    "                early_stopping_counter = 0\n",
    "                best_combined_acc = combined_acc\n",
    "                torch.save({\n",
    "                    'epoch': epoch,\n",
    "                    'model_state_dict': self.model.state_dict(),\n",
    "                    'optimizer_state_dict': self.optimizer.state_dict(),\n",
    "                    'best_acc': best_combined_acc,\n",
    "                }, os.path.join(self.config['save_dir'], 'best_model.pth'))\n",
    "                print(\n",
    "                    f\"Saved new best model with combined acc: {best_combined_acc:.4f}\")\n",
    "            else:\n",
    "                early_stopping_counter += 1\n",
    "\n",
    "            # 提前停止\n",
    "            if early_stopping_counter >= early_stopping_patience:\n",
    "                print(\n",
    "                    f\"Early stopping triggered after {early_stopping_patience} epochs without improvement.\")\n",
    "                break\n",
    "        print(\"Training complete.\")\n",
    "        # 加载最佳模型\n",
    "        checkpoint = torch.load(os.path.join(\n",
    "            self.config['save_dir'], 'best_model.pth'))\n",
    "        self.model.load_state_dict(checkpoint['model_state_dict'])\n",
    "        self.optimizer.load_state_dict(\n",
    "            checkpoint['optimizer_state_dict'])\n",
    "       \n",
    "        # 绘制训练曲线\n",
    "    def train_epoch(self):\n",
    "        self.model.train()\n",
    "        total_loss = 0\n",
    "        plant_correct = 0\n",
    "        status_correct = 0\n",
    "        total_samples = 0\n",
    "\n",
    "        progress_bar = tqdm(self.train_loader, desc='Training')\n",
    "        for images, plant_labels, status_labels in progress_bar:\n",
    "            images = images.to(self.device)\n",
    "            plant_labels = plant_labels.to(self.device)\n",
    "            status_labels = status_labels.to(self.device)\n",
    "\n",
    "            # 前向传播\n",
    "            self.optimizer.zero_grad()\n",
    "            plant_scores, status_scores = self.model(images)\n",
    "\n",
    "            # 计算损失\n",
    "            loss = self.model.compute_loss(\n",
    "                plant_scores, status_scores, plant_labels, status_labels)\n",
    "\n",
    "            # 反向传播\n",
    "            loss.backward()\n",
    "            self.optimizer.step()\n",
    "\n",
    "            # 统计指标\n",
    "            with torch.no_grad():\n",
    "                total_loss += loss.item() * images.size(0)\n",
    "                plant_pred = plant_scores.argmax(dim=1)\n",
    "                status_pred = status_scores.argmax(dim=1)\n",
    "                plant_correct += (plant_pred == plant_labels).sum().item()\n",
    "                status_correct += (status_pred == status_labels).sum().item()\n",
    "                total_samples += images.size(0)\n",
    "\n",
    "            # 更新进度条\n",
    "            progress_bar.set_postfix({\n",
    "                'loss': total_loss / total_samples,\n",
    "                'plant_acc': plant_correct / total_samples,\n",
    "                'status_acc': status_correct / total_samples\n",
    "            })\n",
    "\n",
    "        avg_loss = total_loss / total_samples\n",
    "        plant_acc = plant_correct / total_samples\n",
    "        status_acc = status_correct / total_samples\n",
    "\n",
    "        self.history['train_loss'].append(avg_loss)\n",
    "        return avg_loss, plant_acc, status_acc\n",
    "\n",
    "    def validate(self):\n",
    "        self.model.eval()\n",
    "        total_loss = 0\n",
    "        plant_correct = 0\n",
    "        status_correct = 0\n",
    "        total_samples = 0\n",
    "        progress_bar = tqdm(self.val_loader, desc='Validating')\n",
    "        for images, plant_labels, status_labels in progress_bar:\n",
    "            images = images.to(self.device)\n",
    "            plant_labels = plant_labels.to(self.device)\n",
    "            status_labels = status_labels.to(self.device)\n",
    "\n",
    "            plant_scores, status_scores = self.model(images)\n",
    "            loss = self.model.compute_loss(\n",
    "                plant_scores, status_scores, plant_labels, status_labels)\n",
    "\n",
    "            with torch.no_grad():\n",
    "                total_loss += loss.item() * images.size(0)\n",
    "                plant_pred = plant_scores.argmax(dim=1)\n",
    "                status_pred = status_scores.argmax(dim=1)\n",
    "                plant_correct += (plant_pred == plant_labels).sum().item()\n",
    "                status_correct += (status_pred == status_labels).sum().item()\n",
    "                total_samples += images.size(0)\n",
    "            \n",
    "            # 更新进度条\n",
    "            progress_bar.set_postfix({\n",
    "                'loss': total_loss / total_samples,\n",
    "                'plant_acc': plant_correct / total_samples,\n",
    "                'status_acc': status_correct / total_samples\n",
    "            })\n",
    "        avg_loss = total_loss / total_samples\n",
    "        plant_acc = plant_correct / total_samples\n",
    "        status_acc = status_correct / total_samples\n",
    "        self.history['val_loss'].append(avg_loss)\n",
    "        self.history['plant_acc'].append(plant_acc)\n",
    "        self.history['status_acc'].append(status_acc)\n",
    "        return avg_loss, plant_acc, status_acc\n",
    "\n",
    "    def plot_history(self):\n",
    "        plt.figure(figsize=(12, 5))\n",
    "\n",
    "        # 损失曲线\n",
    "        plt.subplot(1, 2, 1)\n",
    "        plt.plot(self.history['train_loss'], label='Train Loss')\n",
    "        plt.plot(self.history['val_loss'], label='Val Loss')\n",
    "        plt.xlabel('Epoch')\n",
    "        plt.ylabel('Loss')\n",
    "        plt.legend()\n",
    "\n",
    "        # 准确率曲线\n",
    "        plt.subplot(1, 2, 2)\n",
    "        plt.plot(self.history['plant_acc'], label='Plant Acc')\n",
    "        plt.plot(self.history['status_acc'], label='Status Acc')\n",
    "        plt.xlabel('Epoch')\n",
    "        plt.ylabel('Accuracy')\n",
    "        plt.legend()\n",
    "\n",
    "        plt.tight_layout()\n",
    "        plt.savefig(os.path.join(\n",
    "            self.config['save_dir'], 'training_history.png'))\n",
    "        plt.close()\n",
    "\n",
    "    def evaluate(self, data_loader=None, verbose=True):\n",
    "        if data_loader is None:\n",
    "            data_loader = self.val_loader\n",
    "            \n",
    "        self.model.eval()\n",
    "        total_loss = 0\n",
    "        plant_correct = 0\n",
    "        status_correct = 0\n",
    "        total_samples = 0\n",
    "        \n",
    "        # 用于计算指标\n",
    "        all_plant_labels = []\n",
    "        all_plant_preds = []\n",
    "        all_status_labels = []\n",
    "        all_status_preds = []\n",
    "        \n",
    "        with torch.no_grad():\n",
    "            for images, plant_labels, status_labels in tqdm(data_loader, desc='Evaluating'):\n",
    "                images = images.to(self.device)\n",
    "                plant_labels = plant_labels.to(self.device)\n",
    "                status_labels = status_labels.to(self.device)\n",
    "                \n",
    "                plant_scores, status_scores = self.model(images)\n",
    "                loss = self.model.compute_loss(plant_scores, status_scores, plant_labels, status_labels)\n",
    "                \n",
    "                total_loss += loss.item() * images.size(0)\n",
    "                plant_pred = plant_scores.argmax(dim=1)\n",
    "                status_pred = status_scores.argmax(dim=1)\n",
    "                \n",
    "                plant_correct += (plant_pred == plant_labels).sum().item()\n",
    "                status_correct += (status_pred == status_labels).sum().item()\n",
    "                total_samples += images.size(0)\n",
    "                \n",
    "                # 收集所有预测和标签\n",
    "                all_plant_labels.extend(plant_labels.cpu().numpy())\n",
    "                all_plant_preds.extend(plant_pred.cpu().numpy())\n",
    "                all_status_labels.extend(status_labels.cpu().numpy())\n",
    "                all_status_preds.extend(status_pred.cpu().numpy())\n",
    "        \n",
    "        # 计算指标\n",
    "        avg_loss = total_loss / total_samples\n",
    "        plant_acc = plant_correct / total_samples\n",
    "        status_acc = status_correct / total_samples\n",
    "        \n",
    "        # 计算分类报告\n",
    "        plant_report = classification_report(all_plant_labels, all_plant_preds, \n",
    "                                            target_names=self.train_dataset.plant_classes,\n",
    "                                            zero_division=0)\n",
    "        status_report = classification_report(all_status_labels, all_status_preds,\n",
    "                                           target_names=self.train_dataset.status_classes,\n",
    "                                           zero_division=0)\n",
    "        \n",
    "        # 计算混淆矩阵\n",
    "        plant_cm = confusion_matrix(all_plant_labels, all_plant_preds)\n",
    "        status_cm = confusion_matrix(all_status_labels, all_status_preds)\n",
    "        \n",
    "        if verbose:\n",
    "            print(\"\\n\" + \"=\"*50)\n",
    "            print(\"Plant Classification Metrics:\")\n",
    "            print(f\"Accuracy: {plant_acc*100:.2f}%\")\n",
    "            print(plant_report)\n",
    "            self._plot_confusion_matrix(plant_cm, self.train_dataset.plant_classes, \"Plant Confusion Matrix\")\n",
    "            \n",
    "            print(\"\\n\" + \"=\"*50)\n",
    "            print(\"Status Classification Metrics:\")\n",
    "            print(f\"Accuracy: {status_acc*100:.2f}%\")\n",
    "            print(status_report)\n",
    "            self._plot_confusion_matrix(status_cm, self.train_dataset.status_classes, \"Status Confusion Matrix\")\n",
    "            \n",
    "            print(\"\\n\" + \"=\"*50)\n",
    "            print(f\"Average Loss: {avg_loss:.4f}\")\n",
    "            print(\"=\"*50 + \"\\n\")\n",
    "        \n",
    "        return {\n",
    "            'plant_accuracy': plant_acc,\n",
    "            'status_accuracy': status_acc,\n",
    "            'plant_report': plant_report,\n",
    "            'status_report': status_report,\n",
    "            'plant_cm': plant_cm,\n",
    "            'status_cm': status_cm,\n",
    "            'avg_loss': avg_loss\n",
    "        }\n",
    "    \n",
    "    def _plot_confusion_matrix(self, cm, classes, title):\n",
    "        \"\"\"绘制混淆矩阵\"\"\"\n",
    "        plt.figure(figsize=(12, 10))\n",
    "        df_cm = pd.DataFrame(cm, index=classes, columns=classes)\n",
    "        sns.heatmap(df_cm, annot=True, fmt='d', cmap='Blues')\n",
    "        plt.title(title)\n",
    "        plt.xlabel('Predicted')\n",
    "        plt.ylabel('Actual')\n",
    "        plt.xticks(rotation=45)\n",
    "        plt.yticks(rotation=0)\n",
    "        plt.tight_layout()\n",
    "        \n",
    "        # 保存图像\n",
    "        save_path = os.path.join(self.config['save_dir'], f\"{title.lower().replace(' ', '_')}.png\")\n",
    "        plt.savefig(save_path)\n",
    "        plt.close()\n",
    "        print(f\"Confusion matrix saved to: {save_path}\")\n",
    "\n",
    "# 配置参数\n",
    "config = {\n",
    "    'lr': 1e-4,\n",
    "    'weight_decay': 1e-5,\n",
    "    'epochs': 20,\n",
    "    'save_dir': './resnet50_model'\n",
    "}\n",
    "\n",
    "# 初始化训练器\n",
    "trainer = Trainer(\n",
    "    model=resnet50_model,  # 或 denseNet121_model\n",
    "    train_loader=train_loader,\n",
    "    val_loader=val_loader,\n",
    "    device=device,\n",
    "    config=config\n",
    ")\n",
    "\n",
    "# 开始训练\n",
    "# trainer.train()\n",
    "\n",
    "# 绘制训练曲线\n",
    "# trainer.plot_history()"
   ]
  },
  {
   "cell_type": "code",
   "execution_count": null,
   "metadata": {},
   "outputs": [
    {
     "name": "stdout",
     "output_type": "stream",
     "text": [
      "\n",
      "Epoch 1/20\n"
     ]
    },
    {
     "name": "stderr",
     "output_type": "stream",
     "text": [
      "Training: 100%|██████████| 2197/2197 [21:04<00:00,  1.74it/s, loss=0.812, plant_acc=0.942, status_acc=0.886]\n",
      "Validating: 100%|██████████| 550/550 [01:53<00:00,  4.84it/s, loss=0.106, plant_acc=0.996, status_acc=0.976] \n"
     ]
    },
    {
     "name": "stdout",
     "output_type": "stream",
     "text": [
      "Train Loss: 0.8121 | Plant Acc: 0.9422 | Status Acc: 0.8865 | LR: 1.00e-04\n",
      "Val Loss: 0.1062 | Plant Acc: 0.9962 | Status Acc: 0.9762\n",
      "Saved new best model with combined acc: 0.9862\n",
      "\n",
      "Epoch 2/20\n"
     ]
    },
    {
     "name": "stderr",
     "output_type": "stream",
     "text": [
      "Training: 100%|██████████| 2197/2197 [21:08<00:00,  1.73it/s, loss=0.226, plant_acc=0.983, status_acc=0.963]\n",
      "Validating: 100%|██████████| 550/550 [01:57<00:00,  4.69it/s, loss=0.0435, plant_acc=0.999, status_acc=0.989]\n"
     ]
    },
    {
     "name": "stdout",
     "output_type": "stream",
     "text": [
      "Train Loss: 0.2259 | Plant Acc: 0.9835 | Status Acc: 0.9632 | LR: 1.00e-04\n",
      "Val Loss: 0.0435 | Plant Acc: 0.9993 | Status Acc: 0.9887\n",
      "Saved new best model with combined acc: 0.9940\n",
      "\n",
      "Epoch 3/20\n"
     ]
    },
    {
     "name": "stderr",
     "output_type": "stream",
     "text": [
      "Training: 100%|██████████| 2197/2197 [21:17<00:00,  1.72it/s, loss=0.173, plant_acc=0.987, status_acc=0.972]\n",
      "Validating: 100%|██████████| 550/550 [01:53<00:00,  4.86it/s, loss=0.0336, plant_acc=0.999, status_acc=0.992]\n"
     ]
    },
    {
     "name": "stdout",
     "output_type": "stream",
     "text": [
      "Train Loss: 0.1729 | Plant Acc: 0.9867 | Status Acc: 0.9716 | LR: 1.00e-04\n",
      "Val Loss: 0.0336 | Plant Acc: 0.9987 | Status Acc: 0.9921\n",
      "Saved new best model with combined acc: 0.9954\n",
      "\n",
      "Epoch 4/20\n"
     ]
    },
    {
     "name": "stderr",
     "output_type": "stream",
     "text": [
      "Training: 100%|██████████| 2197/2197 [21:14<00:00,  1.72it/s, loss=0.148, plant_acc=0.988, status_acc=0.976]\n",
      "Validating: 100%|██████████| 550/550 [01:56<00:00,  4.71it/s, loss=0.0397, plant_acc=0.999, status_acc=0.99] \n"
     ]
    },
    {
     "name": "stdout",
     "output_type": "stream",
     "text": [
      "Train Loss: 0.1478 | Plant Acc: 0.9881 | Status Acc: 0.9757 | LR: 1.00e-04\n",
      "Val Loss: 0.0397 | Plant Acc: 0.9988 | Status Acc: 0.9900\n",
      "\n",
      "Epoch 5/20\n"
     ]
    },
    {
     "name": "stderr",
     "output_type": "stream",
     "text": [
      "Training: 100%|██████████| 2197/2197 [21:20<00:00,  1.72it/s, loss=0.126, plant_acc=0.991, status_acc=0.98] \n",
      "Validating: 100%|██████████| 550/550 [01:59<00:00,  4.61it/s, loss=0.0331, plant_acc=0.999, status_acc=0.994]\n"
     ]
    },
    {
     "name": "stdout",
     "output_type": "stream",
     "text": [
      "Train Loss: 0.1256 | Plant Acc: 0.9906 | Status Acc: 0.9798 | LR: 1.00e-04\n",
      "Val Loss: 0.0331 | Plant Acc: 0.9989 | Status Acc: 0.9940\n",
      "Saved new best model with combined acc: 0.9964\n",
      "\n",
      "Epoch 6/20\n"
     ]
    },
    {
     "name": "stderr",
     "output_type": "stream",
     "text": [
      "Training: 100%|██████████| 2197/2197 [21:23<00:00,  1.71it/s, loss=0.116, plant_acc=0.991, status_acc=0.98] \n",
      "Validating: 100%|██████████| 550/550 [01:55<00:00,  4.75it/s, loss=0.0458, plant_acc=0.997, status_acc=0.991]\n"
     ]
    },
    {
     "name": "stdout",
     "output_type": "stream",
     "text": [
      "Train Loss: 0.1162 | Plant Acc: 0.9910 | Status Acc: 0.9801 | LR: 1.00e-04\n",
      "Val Loss: 0.0458 | Plant Acc: 0.9970 | Status Acc: 0.9910\n",
      "\n",
      "Epoch 7/20\n"
     ]
    },
    {
     "name": "stderr",
     "output_type": "stream",
     "text": [
      "Training: 100%|██████████| 2197/2197 [21:12<00:00,  1.73it/s, loss=0.108, plant_acc=0.992, status_acc=0.982]\n",
      "Validating: 100%|██████████| 550/550 [01:57<00:00,  4.67it/s, loss=0.0227, plant_acc=0.999, status_acc=0.995]\n"
     ]
    },
    {
     "name": "stdout",
     "output_type": "stream",
     "text": [
      "Train Loss: 0.1079 | Plant Acc: 0.9916 | Status Acc: 0.9818 | LR: 1.00e-04\n",
      "Val Loss: 0.0227 | Plant Acc: 0.9989 | Status Acc: 0.9947\n",
      "Saved new best model with combined acc: 0.9968\n",
      "\n",
      "Epoch 8/20\n"
     ]
    },
    {
     "name": "stderr",
     "output_type": "stream",
     "text": [
      "Training: 100%|██████████| 2197/2197 [21:03<00:00,  1.74it/s, loss=0.0993, plant_acc=0.992, status_acc=0.983]\n",
      "Validating: 100%|██████████| 550/550 [01:54<00:00,  4.78it/s, loss=0.0469, plant_acc=0.998, status_acc=0.989]\n"
     ]
    },
    {
     "name": "stdout",
     "output_type": "stream",
     "text": [
      "Train Loss: 0.0993 | Plant Acc: 0.9924 | Status Acc: 0.9835 | LR: 1.00e-04\n",
      "Val Loss: 0.0469 | Plant Acc: 0.9976 | Status Acc: 0.9892\n",
      "\n",
      "Epoch 9/20\n"
     ]
    },
    {
     "name": "stderr",
     "output_type": "stream",
     "text": [
      "Training: 100%|██████████| 2197/2197 [21:01<00:00,  1.74it/s, loss=0.0923, plant_acc=0.993, status_acc=0.984]\n",
      "Validating: 100%|██████████| 550/550 [01:54<00:00,  4.81it/s, loss=0.0242, plant_acc=0.999, status_acc=0.993] \n"
     ]
    },
    {
     "name": "stdout",
     "output_type": "stream",
     "text": [
      "Train Loss: 0.0923 | Plant Acc: 0.9927 | Status Acc: 0.9844 | LR: 1.00e-04\n",
      "Val Loss: 0.0242 | Plant Acc: 0.9993 | Status Acc: 0.9928\n",
      "\n",
      "Epoch 10/20\n"
     ]
    },
    {
     "name": "stderr",
     "output_type": "stream",
     "text": [
      "Training: 100%|██████████| 2197/2197 [21:00<00:00,  1.74it/s, loss=0.0859, plant_acc=0.993, status_acc=0.986]\n",
      "Validating: 100%|██████████| 550/550 [01:55<00:00,  4.76it/s, loss=0.0189, plant_acc=0.999, status_acc=0.995] \n"
     ]
    },
    {
     "name": "stdout",
     "output_type": "stream",
     "text": [
      "Train Loss: 0.0859 | Plant Acc: 0.9931 | Status Acc: 0.9859 | LR: 1.00e-04\n",
      "Val Loss: 0.0189 | Plant Acc: 0.9993 | Status Acc: 0.9951\n",
      "Saved new best model with combined acc: 0.9972\n",
      "\n",
      "Epoch 11/20\n"
     ]
    },
    {
     "name": "stderr",
     "output_type": "stream",
     "text": [
      "Training: 100%|██████████| 2197/2197 [20:58<00:00,  1.75it/s, loss=0.0846, plant_acc=0.993, status_acc=0.986]\n",
      "Validating: 100%|██████████| 550/550 [01:55<00:00,  4.77it/s, loss=0.0291, plant_acc=0.999, status_acc=0.992] \n"
     ]
    },
    {
     "name": "stdout",
     "output_type": "stream",
     "text": [
      "Train Loss: 0.0846 | Plant Acc: 0.9932 | Status Acc: 0.9857 | LR: 1.00e-04\n",
      "Val Loss: 0.0291 | Plant Acc: 0.9994 | Status Acc: 0.9917\n",
      "\n",
      "Epoch 12/20\n"
     ]
    },
    {
     "name": "stderr",
     "output_type": "stream",
     "text": [
      "Training: 100%|██████████| 2197/2197 [21:00<00:00,  1.74it/s, loss=0.0807, plant_acc=0.993, status_acc=0.987]\n",
      "Validating: 100%|██████████| 550/550 [01:55<00:00,  4.77it/s, loss=0.0204, plant_acc=0.999, status_acc=0.995] \n"
     ]
    },
    {
     "name": "stdout",
     "output_type": "stream",
     "text": [
      "Train Loss: 0.0807 | Plant Acc: 0.9934 | Status Acc: 0.9866 | LR: 1.00e-04\n",
      "Val Loss: 0.0204 | Plant Acc: 0.9989 | Status Acc: 0.9953\n",
      "\n",
      "Epoch 13/20\n"
     ]
    },
    {
     "name": "stderr",
     "output_type": "stream",
     "text": [
      "Training: 100%|██████████| 2197/2197 [21:00<00:00,  1.74it/s, loss=0.0749, plant_acc=0.994, status_acc=0.988]\n",
      "Validating: 100%|██████████| 550/550 [01:54<00:00,  4.82it/s, loss=0.0138, plant_acc=1, status_acc=0.996] \n"
     ]
    },
    {
     "name": "stdout",
     "output_type": "stream",
     "text": [
      "Train Loss: 0.0749 | Plant Acc: 0.9943 | Status Acc: 0.9875 | LR: 1.00e-04\n",
      "Val Loss: 0.0138 | Plant Acc: 0.9998 | Status Acc: 0.9958\n",
      "Saved new best model with combined acc: 0.9978\n",
      "\n",
      "Epoch 14/20\n"
     ]
    },
    {
     "name": "stderr",
     "output_type": "stream",
     "text": [
      "Training: 100%|██████████| 2197/2197 [21:00<00:00,  1.74it/s, loss=0.0745, plant_acc=0.994, status_acc=0.988]\n",
      "Validating: 100%|██████████| 550/550 [01:54<00:00,  4.79it/s, loss=0.0161, plant_acc=0.999, status_acc=0.996] \n"
     ]
    },
    {
     "name": "stdout",
     "output_type": "stream",
     "text": [
      "Train Loss: 0.0745 | Plant Acc: 0.9941 | Status Acc: 0.9880 | LR: 1.00e-04\n",
      "Val Loss: 0.0161 | Plant Acc: 0.9994 | Status Acc: 0.9961\n",
      "\n",
      "Epoch 15/20\n"
     ]
    },
    {
     "name": "stderr",
     "output_type": "stream",
     "text": [
      "Training: 100%|██████████| 2197/2197 [20:59<00:00,  1.74it/s, loss=0.0758, plant_acc=0.994, status_acc=0.988]\n",
      "Validating: 100%|██████████| 550/550 [01:55<00:00,  4.75it/s, loss=0.0107, plant_acc=0.999, status_acc=0.998] \n"
     ]
    },
    {
     "name": "stdout",
     "output_type": "stream",
     "text": [
      "Train Loss: 0.0758 | Plant Acc: 0.9936 | Status Acc: 0.9882 | LR: 1.00e-04\n",
      "Val Loss: 0.0107 | Plant Acc: 0.9994 | Status Acc: 0.9980\n",
      "Saved new best model with combined acc: 0.9987\n",
      "\n",
      "Epoch 16/20\n"
     ]
    },
    {
     "name": "stderr",
     "output_type": "stream",
     "text": [
      "Training: 100%|██████████| 2197/2197 [21:11<00:00,  1.73it/s, loss=0.0667, plant_acc=0.994, status_acc=0.989]\n",
      "Validating: 100%|██████████| 550/550 [01:55<00:00,  4.78it/s, loss=0.0156, plant_acc=0.999, status_acc=0.996] \n"
     ]
    },
    {
     "name": "stdout",
     "output_type": "stream",
     "text": [
      "Train Loss: 0.0667 | Plant Acc: 0.9943 | Status Acc: 0.9890 | LR: 1.00e-04\n",
      "Val Loss: 0.0156 | Plant Acc: 0.9991 | Status Acc: 0.9964\n",
      "\n",
      "Epoch 17/20\n"
     ]
    },
    {
     "name": "stderr",
     "output_type": "stream",
     "text": [
      "Training: 100%|██████████| 2197/2197 [20:58<00:00,  1.75it/s, loss=0.0669, plant_acc=0.994, status_acc=0.989]\n",
      "Validating: 100%|██████████| 550/550 [01:55<00:00,  4.77it/s, loss=0.0239, plant_acc=0.999, status_acc=0.994]\n"
     ]
    },
    {
     "name": "stdout",
     "output_type": "stream",
     "text": [
      "Train Loss: 0.0669 | Plant Acc: 0.9944 | Status Acc: 0.9885 | LR: 1.00e-04\n",
      "Val Loss: 0.0239 | Plant Acc: 0.9990 | Status Acc: 0.9944\n",
      "\n",
      "Epoch 18/20\n"
     ]
    },
    {
     "name": "stderr",
     "output_type": "stream",
     "text": [
      "Training: 100%|██████████| 2197/2197 [20:59<00:00,  1.74it/s, loss=0.062, plant_acc=0.995, status_acc=0.989] \n",
      "Validating: 100%|██████████| 550/550 [01:54<00:00,  4.81it/s, loss=0.0217, plant_acc=0.999, status_acc=0.995]\n"
     ]
    },
    {
     "name": "stdout",
     "output_type": "stream",
     "text": [
      "Train Loss: 0.0620 | Plant Acc: 0.9951 | Status Acc: 0.9895 | LR: 1.00e-04\n",
      "Val Loss: 0.0217 | Plant Acc: 0.9993 | Status Acc: 0.9952\n",
      "\n",
      "Epoch 19/20\n"
     ]
    },
    {
     "name": "stderr",
     "output_type": "stream",
     "text": [
      "Training: 100%|██████████| 2197/2197 [21:01<00:00,  1.74it/s, loss=0.0641, plant_acc=0.995, status_acc=0.989]\n",
      "Validating: 100%|██████████| 550/550 [01:55<00:00,  4.76it/s, loss=0.0185, plant_acc=1, status_acc=0.995]     \n"
     ]
    },
    {
     "name": "stdout",
     "output_type": "stream",
     "text": [
      "Train Loss: 0.0641 | Plant Acc: 0.9951 | Status Acc: 0.9889 | LR: 1.00e-04\n",
      "Val Loss: 0.0185 | Plant Acc: 0.9997 | Status Acc: 0.9947\n",
      "\n",
      "Epoch 20/20\n"
     ]
    },
    {
     "name": "stderr",
     "output_type": "stream",
     "text": [
      "Training: 100%|██████████| 2197/2197 [21:16<00:00,  1.72it/s, loss=0.045, plant_acc=0.997, status_acc=0.992] \n",
      "Validating: 100%|██████████| 550/550 [01:58<00:00,  4.65it/s, loss=0.0153, plant_acc=1, status_acc=0.996]     \n"
     ]
    },
    {
     "name": "stdout",
     "output_type": "stream",
     "text": [
      "Train Loss: 0.0450 | Plant Acc: 0.9966 | Status Acc: 0.9922 | LR: 5.00e-05\n",
      "Val Loss: 0.0153 | Plant Acc: 0.9998 | Status Acc: 0.9957\n"
     ]
    }
   ],
   "source": [
    "train_loader = DataLoader(\n",
    "    train_dataset, batch_size=batch_size, shuffle=True, num_workers=4)\n",
    "val_loader = DataLoader(\n",
    "    val_dataset, batch_size=batch_size, shuffle=False, num_workers=4)\n",
    "\n",
    "denseNet121_model = denseNet121_model.to(device)\n",
    "\n",
    "# 配置参数\n",
    "config = {\n",
    "    'lr': 1e-4,\n",
    "    'weight_decay': 1e-5,\n",
    "    'epochs': num_epochs,\n",
    "    'save_dir': './resnet50_model'\n",
    "}\n",
    "\n",
    "# 初始化训练器\n",
    "trainer = Trainer(\n",
    "    model=resnet50_model,  # 或 denseNet121_model\n",
    "    train_loader=train_loader,\n",
    "    val_loader=val_loader,\n",
    "    device=device,\n",
    "    config=config\n",
    ")\n",
    "\n",
    "# 开始训练\n",
    "trainer.train()\n",
    "\n",
    "# 绘制训练曲线\n",
    "trainer.plot_history()"
   ]
  },
  {
   "cell_type": "code",
   "execution_count": null,
   "metadata": {},
   "outputs": [
    {
     "name": "stdout",
     "output_type": "stream",
     "text": [
      "\n",
      "Epoch 1/25\n"
     ]
    },
    {
     "name": "stderr",
     "output_type": "stream",
     "text": [
      "Training:  14%|█▍        | 312/2197 [03:20<18:40,  1.68it/s, loss=3.49, plant_acc=0.799, status_acc=0.523]  "
     ]
    }
   ],
   "source": [
    "train_loader = DataLoader(\n",
    "    train_dataset, batch_size=batch_size, shuffle=True, num_workers=4)\n",
    "val_loader = DataLoader(\n",
    "    val_dataset, batch_size=batch_size, shuffle=False, num_workers=4)\n",
    "\n",
    "denseNet121_model = denseNet121_model.to(device)\n",
    "\n",
    "# 配置参数\n",
    "config = {\n",
    "    'lr': 1e-4,\n",
    "    'weight_decay': 1e-5,\n",
    "    'epochs': num_epochs,\n",
    "    'save_dir': './denseNet121_model'\n",
    "}\n",
    "\n",
    "# 初始化训练器\n",
    "trainer = Trainer(\n",
    "    model=denseNet121_model,  # 或 denseNet121_model\n",
    "    train_loader=train_loader,\n",
    "    val_loader=val_loader,\n",
    "    device=device,\n",
    "    config=config\n",
    ")\n",
    "\n",
    "# 开始训练\n",
    "trainer.train()\n",
    "\n",
    "# 绘制训练曲线\n",
    "trainer.plot_history()"
   ]
  }
 ],
 "metadata": {
  "kernelspec": {
   "display_name": "assign4",
   "language": "python",
   "name": "python3"
  },
  "language_info": {
   "codemirror_mode": {
    "name": "ipython",
    "version": 3
   },
   "file_extension": ".py",
   "mimetype": "text/x-python",
   "name": "python",
   "nbconvert_exporter": "python",
   "pygments_lexer": "ipython3",
   "version": "3.12.9"
  }
 },
 "nbformat": 4,
 "nbformat_minor": 2
}
